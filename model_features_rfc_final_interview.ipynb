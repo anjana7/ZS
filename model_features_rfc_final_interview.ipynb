{
 "cells": [
  {
   "cell_type": "code",
   "execution_count": null,
   "metadata": {},
   "outputs": [],
   "source": [
    "# from IPython.core.display import display, HTML\n",
    "# display(HTML(\"<style>.container { width:85% !important; }</style>\"))"
   ]
  },
  {
   "cell_type": "code",
   "execution_count": 1,
   "metadata": {},
   "outputs": [],
   "source": [
    "import pandas as pd\n",
    "import numpy as np\n",
    "import string\n",
    "from pathlib import Path\n",
    "from nltk.stem import WordNetLemmatizer\n",
    "from nltk.stem import PorterStemmer\n",
    "import re\n",
    "import nltk\n",
    "from nltk.tokenize import word_tokenize\n",
    "from nltk.corpus import stopwords\n",
    "from nltk.corpus import wordnet\n",
    "from spellchecker import SpellChecker\n",
    "from sklearn.preprocessing import LabelEncoder\n",
    "from scipy.sparse import csr_matrix\n",
    "import tldextract\n",
    "from sklearn.feature_extraction.text import TfidfVectorizer\n",
    "from sklearn.model_selection import cross_val_score\n",
    "from sklearn.ensemble import RandomForestClassifier\n",
    "from sklearn.model_selection import RandomizedSearchCV\n",
    "\n",
    "\n",
    "from tqdm._tqdm_notebook import tqdm_notebook\n",
    "tqdm_notebook.pandas()\n",
    "\n",
    "import warnings\n",
    "warnings.filterwarnings(\"ignore\")\n",
    "\n",
    "PATH = Path('C:/Users/anjana1.yadav/Desktop/dream_book/anjana/Hackerearth_ZS_Associates')\n",
    "DATA = Path(PATH/'dataset')"
   ]
  },
  {
   "cell_type": "code",
   "execution_count": 13,
   "metadata": {},
   "outputs": [],
   "source": [
    "def missing_percent(train):\n",
    "    # Calculate percentage of missing keywords\n",
    "    for c in train.columns.values:\n",
    "        bool_series_keyword = pd.isnull(train[c]) \n",
    "        #print('{}% of {} are missing from Total Number of Records\\n'.format((len(train[bool_series_keyword])/len(train.index))*100, c))\n",
    "        print('{}% of {} are missing from Total Number of Records\\n'.format(len(train[bool_series_keyword]), len(train.index) - len(train[bool_series_keyword]) ))\n",
    "    \n",
    "    print(\"train patient tag counts : \", train.Patient_Tag.value_counts())\n",
    "    return()\n",
    "\n",
    "\n",
    "def decontracted(phrase):\n",
    "    '''\n",
    "    words in short format needs to be corrected. eg: won't = will not.\n",
    "    If not done then after preprocessing singular words like \"t\" will\n",
    "    remain and give no meaning.\n",
    "    '''\n",
    "    \n",
    "    phrase = re.sub(r\"won\\'t\", \"will not\", phrase)\n",
    "    phrase = re.sub(r\"can\\'t\", \"can not\", phrase)\n",
    "    phrase = re.sub(r\"n\\'t\", \" not\", phrase)\n",
    "    phrase = re.sub(r\"\\'re\", \" are\", phrase)\n",
    "    phrase = re.sub(r\"\\'s\", \" is\", phrase)\n",
    "    phrase = re.sub(r\"\\'d\", \" would\", phrase)\n",
    "    phrase = re.sub(r\"\\'ll\", \" will\", phrase)\n",
    "    phrase = re.sub(r\"\\'t\", \" not\", phrase)\n",
    "    phrase = re.sub(r\"\\'ve\", \" have\", phrase)\n",
    "    phrase = re.sub(r\"\\'m\", \" am\", phrase)\n",
    "    return phrase\n",
    "\n",
    "def nltk_tag_to_wordnet_tag(nltk_tag):\n",
    "    '''\n",
    "    The pos-tag format given by the nltk tag does not match the pos-tag \n",
    "    format of wordnet. So we need to change the formats. \n",
    "    '''\n",
    "    if nltk_tag.startswith('J'):\n",
    "        return wordnet.ADJ\n",
    "    elif nltk_tag.startswith('V'):\n",
    "        return wordnet.VERB\n",
    "    elif nltk_tag.startswith('N'):\n",
    "        return wordnet.NOUN\n",
    "    elif nltk_tag.startswith('R'):\n",
    "        return wordnet.ADV\n",
    "    else:          \n",
    "        return None\n",
    "    \n",
    "def lemmatize_sentence(sentence):\n",
    "    \n",
    "    '''\n",
    "    The lemmatizer works better when the pos-tag is also given.\n",
    "    Lemmatize sentence calculates the pos tag of each word and then\n",
    "    lemmatizes it.\n",
    "    '''\n",
    "    \n",
    "    lemmatizer = WordNetLemmatizer()\n",
    "    \n",
    "    #tokenize the sentence and find the POS tag for each token\n",
    "    nltk_tagged = nltk.pos_tag(nltk.word_tokenize(sentence))  \n",
    "    \n",
    "    #tuple of (token, wordnet_tag)\n",
    "    wordnet_tagged = map(lambda x: (x[0], nltk_tag_to_wordnet_tag(x[1])), nltk_tagged)\n",
    "    lemmatized_sentence = []\n",
    "    \n",
    "    for word, tag in wordnet_tagged:\n",
    "        if tag is None:\n",
    "            #if there is no available tag, append the token as is\n",
    "            lemmatized_sentence.append(word)\n",
    "        else:        \n",
    "            #else use the tag to lemmatize the token\n",
    "            lemmatized_sentence.append(lemmatizer.lemmatize(word, tag))\n",
    "    return (\" \".join(lemmatized_sentence))\n",
    "\n",
    "\n",
    "def remove_emoji(text):\n",
    "    \n",
    "    '''\n",
    "    Remove the emojis that might be present in the twitter texts\n",
    "    '''\n",
    "    emoji_pattern = re.compile(\"[\"\n",
    "                           u\"\\U0001F600-\\U0001F64F\"  # emoticons\n",
    "                           u\"\\U0001F300-\\U0001F5FF\"  # symbols & pictographs\n",
    "                           u\"\\U0001F680-\\U0001F6FF\"  # transport & map symbols\n",
    "                           u\"\\U0001F1E0-\\U0001F1FF\"  # flags (iOS)\n",
    "                           u\"\\U00002702-\\U000027B0\"\n",
    "                           u\"\\U000024C2-\\U0001F251\"\n",
    "                           \"]+\", flags=re.UNICODE)\n",
    "    return emoji_pattern.sub(r'', text)\n",
    "\n",
    "def preprocess(sent):\n",
    "    \n",
    "    '''\n",
    "    Preprocess each sentence by following steps:\n",
    "    Decontraction -> Punctuation removal -> \n",
    "    Stopword removal -> Lemmatization\n",
    "    '''\n",
    "    \n",
    "    #de contract the sentence eg. : don't = do not\n",
    "    decont_sent = decontracted(remove_emoji(sent))\n",
    "    word_tokens = word_tokenize(decont_sent)\n",
    "    \n",
    "    #remove punctuations\n",
    "    table = str.maketrans('', '', string.punctuation)\n",
    "    stripped = [w.translate(table) for w in word_tokens]\n",
    "    \n",
    "    #remove stopwords\n",
    "    stop_words = stopwords.words('english')\n",
    "    list_to_remove = ['no', 'not']\n",
    "    stop_words = set(stop_words).difference(set(list_to_remove))\n",
    "    \n",
    "    filtered_sentence = [w.lower() for w in stripped if (not w in stop_words and w.isalpha() and len(w)>2)]\n",
    "    \n",
    "    #lemmatization\n",
    "    lemma = lemmatize_sentence(' '.join(filtered_sentence))\n",
    "\n",
    "    return(lemma)\n",
    "\n",
    "def edit_link(sent):\n",
    "    punct = list(string.punctuation)\n",
    "    new_sent = ''\n",
    "    for s in sent:\n",
    "        if s in punct:\n",
    "            new_sent+=' '\n",
    "        else:\n",
    "            new_sent+=s\n",
    "            \n",
    "    tokens = new_sent.split(\" \")\n",
    "    \n",
    "    stop_words = stopwords.words('english')\n",
    "    stop_words.extend(['http','co','com','uk','www','net','html','php','cpp','post','forums','boards','threads','thread','forum','feed','utm','org','page','topic','index','pg','htm','qid','id','default','aspx',''])\n",
    "    list_to_remove = ['no', 'not']\n",
    "    \n",
    "    stop_words = set(stop_words).difference(set(list_to_remove))\n",
    "    \n",
    "    filtered_sentence = [w for w in tokens if (not w in stop_words and w.isalpha() and len(w)>3)]\n",
    "    \n",
    "    return(' '.join(filtered_sentence))\n",
    "\n",
    "\n",
    "def parameter_tuning(X_train, y_train):\n",
    "    #defining the expected hyperparameters\n",
    "    n_estimators = [int(x) for x in np.linspace(start = 100, stop = 2000, num = 10)]\n",
    "    max_features = ['auto', 'sqrt']\n",
    "    max_depth = [int(x) for x in np.linspace(200, 700, num = 11)]\n",
    "    max_depth.append(None)\n",
    "    min_samples_split = [10, 20, 50, 80]\n",
    "    min_samples_leaf = [1, 2, 4]\n",
    "    bootstrap = [True, False]\n",
    "\n",
    "    random_grid = {'n_estimators': n_estimators,\n",
    "                   'max_features': max_features,\n",
    "                   'max_depth': max_depth,\n",
    "                   'min_samples_split': min_samples_split,\n",
    "                   'min_samples_leaf': min_samples_leaf,\n",
    "                   'bootstrap': bootstrap}\n",
    "\n",
    "    print(\"The set of hyperparameters we are passing to rfc model to tune are:\\n\", random_grid)\n",
    "\n",
    "    #Defining the Random Forest Classifier and Randomised search\n",
    "    rf = RandomForestClassifier()\n",
    "    rf_random = RandomizedSearchCV(estimator = rf, param_distributions = random_grid, n_iter = 100, cv = 3, verbose=2, random_state=42, n_jobs = -1).fit(X_train, y_train)\n",
    "\n",
    "    print(\"Optimal Parameters predicted by Randomised Search are: \\n\", rf_random.best_params_)\n",
    "    return(rf_random)\n",
    "\n",
    "def get_domain(url):\n",
    "    domain = tldextract.extract(url).domain\n",
    "    return(domain)\n"
   ]
  },
  {
   "cell_type": "code",
   "execution_count": 42,
   "metadata": {},
   "outputs": [],
   "source": [
    "# def get_text_features(df): #df=train\n",
    "\n",
    "#     df.Title = df.Title.fillna(' ')\n",
    "#     df_features = df[['TRANS_CONV_TEXT', 'Title']]\n",
    "#     df_features['Domain'] = df.Link.apply(get_domain)\n",
    "#     df_features.TRANS_CONV_TEXT = df_features.TRANS_CONV_TEXT.progress_apply(preprocess)\n",
    "#     df_features.Title = df_features.Title.progress_apply(preprocess)\n",
    "#     df_features['Link'] = df.Link.apply(edit_link)\n",
    "# #     df_features['Link'] = [' '.join(df_features.Link[i] + [df_features.Title[i]]) for i in df_features.index]\n",
    "    \n",
    "#     return(df_features)\n",
    "\n",
    "\n",
    "# def get_tfidf_vectorizer(df): #df=df_features\n",
    "    \n",
    "#     corpus_text = df.TRANS_CONV_TEXT.values\n",
    "#     corpus_link = df.Link.values\n",
    "\n",
    "#     vectorizer_text = TfidfVectorizer(max_df=0.05, max_features=500)\n",
    "#     X_text = vectorizer_text.fit_transform(corpus_text)\n",
    "\n",
    "#     vectorizer_link = TfidfVectorizer(max_df=0.1, max_features=70)\n",
    "#     X_link = vectorizer_link.fit_transform(corpus_link)\n",
    "    \n",
    "#     return(X_text, X_link, vectorizer_text, vectorizer_link)\n",
    "\n",
    "def get_text_features(df): #df=train\n",
    "    \n",
    "    df.Title = df.Title.fillna(' ')\n",
    "    df2 = df[['TRANS_CONV_TEXT', 'Title']]\n",
    "    df2['Domain'] = df.Link.apply(get_domain)\n",
    "    df2.TRANS_CONV_TEXT = df2.TRANS_CONV_TEXT.progress_apply(preprocess)\n",
    "    df2.Title = df2.Title.progress_apply(preprocess)\n",
    "    df2['Link'] = df.Link.apply(edit_link)\n",
    "    \n",
    "    return(df2)\n",
    "\n",
    "\n",
    "def get_tfidf_vectorizer(df2): #df=df_features:\n",
    "    \n",
    "    corpus_text = df2.TRANS_CONV_TEXT.values\n",
    "    corpus_link = df2.Link.values\n",
    "    corpus_domain = df2.Domain.values\n",
    "    corpus_title = df2.Title.values\n",
    "\n",
    "    vectorizer_text = TfidfVectorizer(max_df=0.05, max_features=500)\n",
    "    X_text = vectorizer_text.fit_transform(corpus_text)\n",
    "\n",
    "    vectorizer_link = TfidfVectorizer(max_df=0.05, max_features=500)\n",
    "    X_link = vectorizer_link.fit_transform(corpus_link)\n",
    "\n",
    "    vectorizer_domain = TfidfVectorizer(max_df=0.05, max_features=500)\n",
    "    X_domain = vectorizer_domain.fit_transform(corpus_domain)\n",
    "\n",
    "    vectorizer_title = TfidfVectorizer(max_df=0.1, max_features=70)\n",
    "    X_title = vectorizer_title.fit_transform(corpus_title)\n",
    "\n",
    "    return(X_text, X_link, X_domain, X_title, vectorizer_text, vectorizer_link, vectorizer_domain, vectorizer_title)\n",
    "\n",
    "\n",
    "def get_label_encode(df1, df2): #df1=train, df2=df_features\n",
    "    \n",
    "    df_sub = df1[['Source']]\n",
    "    df_sub.Source = df_sub[['Source']].applymap(str.lower)\n",
    "    \n",
    "    label_encoder_src = LabelEncoder()\n",
    "    df_sub['Source'] = label_encoder_src.fit_transform(df_sub.Source).astype('int')\n",
    "\n",
    "    df_sub['word_count'] = df2['TRANS_CONV_TEXT'].apply(lambda x: len(str(x).split(' ')))\n",
    "    df_sub['len_stopwords'] = df1.TRANS_CONV_TEXT.apply(lambda x: len(str(x).split(' ')))\n",
    "    df_sub.len_stopwords = df_sub.len_stopwords - df_sub.word_count\n",
    "    \n",
    "    return(df_sub, label_encoder_src)\n",
    "\n",
    "def merge_df(df1, df2, df3, df4, df5): #df1=X_text, df2=X_link, df3=X_domain, df4=X_title, df5=df_sub\n",
    "    \n",
    "    df_text = pd.DataFrame(data=csr_matrix(df1).todense())\n",
    "    df_link = pd.DataFrame(data=csr_matrix(df2).todense())\n",
    "    df_domain = pd.DataFrame(data=csr_matrix(df3).todense())\n",
    "    df_title = pd.DataFrame(data=csr_matrix(df4).todense())\n",
    "    \n",
    "    df_train = pd.DataFrame(np.hstack([df_text, df_link, df_domain, df_title, df_sub]))\n",
    "    \n",
    "    return(df_train)\n",
    "\n",
    "\n",
    "def get_train_transforms(train):\n",
    "    \n",
    "    df_features = get_text_features(train)\n",
    "    X_text, X_link, X_domain, X_title, vectorizer_text, vectorizer_link, vectorizer_domain, vectorizer_title = get_tfidf_vectorizer(df_features)\n",
    "    df_sub, label_encoder_src = get_label_encode(train, df_features)\n",
    "    df_final = merge_df(X_text, X_link, X_domain, X_title, df_sub)\n",
    "    \n",
    "    text_feat = np.array(['TRANS_CONV_TEXT.'], dtype=np.object) + np.asarray(vectorizer_text.get_feature_names(), dtype=np.object)\n",
    "    link_feat = np.array(['LINK.'], dtype=np.object) + np.asarray(vectorizer_link.get_feature_names(), dtype=np.object)\n",
    "    dom_feat =  np.array(['DOMAIN.'], dtype=np.object) + np.asarray(vectorizer_domain.get_feature_names(), dtype=np.object)\n",
    "    titl_feat = np.array(['TITLE.'], dtype=np.object) + np.asarray(vectorizer_title.get_feature_names(), dtype=np.object)\n",
    "    sub_feat = ['Source', 'word_count', 'len_stopwords']\n",
    "\n",
    "    features = np.hstack([text_feat, link_feat, dom_feat, titl_feat, sub_feat])\n",
    "    \n",
    "    return(df_final, df_final.values, vectorizer_text, vectorizer_link, vectorizer_domain, vectorizer_title, label_encoder_src, features)\n"
   ]
  },
  {
   "cell_type": "code",
   "execution_count": 4,
   "metadata": {},
   "outputs": [],
   "source": [
    "train = pd.read_csv(Path(DATA/'train.csv'), engine='python')\n",
    "test = pd.read_csv(Path(DATA/'test.csv'), engine='python')\n",
    "train.drop(['Host', 'Date(ET)','Time(ET)','time(GMT)'], inplace=True, axis=1)\n",
    "train.dropna(subset=['TRANS_CONV_TEXT'], inplace=True)"
   ]
  },
  {
   "cell_type": "code",
   "execution_count": 6,
   "metadata": {},
   "outputs": [
    {
     "name": "stdout",
     "output_type": "stream",
     "text": [
      "0% of 1156 are missing from Total Number of Records\n",
      "\n",
      "0% of 1156 are missing from Total Number of Records\n",
      "\n",
      "216% of 940 are missing from Total Number of Records\n",
      "\n",
      "0% of 1156 are missing from Total Number of Records\n",
      "\n",
      "0% of 1156 are missing from Total Number of Records\n",
      "\n",
      "train patient tag counts :  0    916\n",
      "1    240\n",
      "Name: Patient_Tag, dtype: int64\n"
     ]
    },
    {
     "data": {
      "text/plain": [
       "()"
      ]
     },
     "execution_count": 6,
     "metadata": {},
     "output_type": "execute_result"
    }
   ],
   "source": [
    "missing_percent(train)"
   ]
  },
  {
   "cell_type": "code",
   "execution_count": 7,
   "metadata": {},
   "outputs": [
    {
     "data": {
      "text/html": [
       "<div>\n",
       "<style scoped>\n",
       "    .dataframe tbody tr th:only-of-type {\n",
       "        vertical-align: middle;\n",
       "    }\n",
       "\n",
       "    .dataframe tbody tr th {\n",
       "        vertical-align: top;\n",
       "    }\n",
       "\n",
       "    .dataframe thead th {\n",
       "        text-align: right;\n",
       "    }\n",
       "</style>\n",
       "<table border=\"1\" class=\"dataframe\">\n",
       "  <thead>\n",
       "    <tr style=\"text-align: right;\">\n",
       "      <th></th>\n",
       "      <th>Source</th>\n",
       "      <th>Link</th>\n",
       "      <th>Title</th>\n",
       "      <th>TRANS_CONV_TEXT</th>\n",
       "      <th>Patient_Tag</th>\n",
       "    </tr>\n",
       "  </thead>\n",
       "  <tbody>\n",
       "    <tr>\n",
       "      <th>0</th>\n",
       "      <td>FORUMS</td>\n",
       "      <td>http://cafepharma.com/boards/threads/epstein.5...</td>\n",
       "      <td>Epstein</td>\n",
       "      <td>I don't disagree with you in principle. I'm ju...</td>\n",
       "      <td>0</td>\n",
       "    </tr>\n",
       "    <tr>\n",
       "      <th>1</th>\n",
       "      <td>FORUMS</td>\n",
       "      <td>http://www.patient.co.uk/forums/discuss/enlarg...</td>\n",
       "      <td>Enlarged Heart.Thread Enlarged Heart</td>\n",
       "      <td>I am always dizzy I get dizzy standing up so I...</td>\n",
       "      <td>1</td>\n",
       "    </tr>\n",
       "    <tr>\n",
       "      <th>2</th>\n",
       "      <td>BLOG</td>\n",
       "      <td>http://abcnewsradioonline.com/entertainment-ne...</td>\n",
       "      <td>Queen Latifah Joins American Heart Association...</td>\n",
       "      <td>Axelle/Bauer-Griffin/FilmMagic(NEW YORK) -- Qu...</td>\n",
       "      <td>0</td>\n",
       "    </tr>\n",
       "    <tr>\n",
       "      <th>3</th>\n",
       "      <td>FORUMS</td>\n",
       "      <td>http://www.cancer-forums.net/viewtopic.php?f=1...</td>\n",
       "      <td>Bulaemia</td>\n",
       "      <td>I am 17 and I have been throwing up for about ...</td>\n",
       "      <td>1</td>\n",
       "    </tr>\n",
       "    <tr>\n",
       "      <th>4</th>\n",
       "      <td>FORUMS</td>\n",
       "      <td>http://www.diyaudio.com/forums/lounge/292252-d...</td>\n",
       "      <td>DIY Silver interconnects and RCAs???</td>\n",
       "      <td>Quote: Originally Posted by Boyan Silyavski Wa...</td>\n",
       "      <td>0</td>\n",
       "    </tr>\n",
       "  </tbody>\n",
       "</table>\n",
       "</div>"
      ],
      "text/plain": [
       "   Source                                               Link  \\\n",
       "0  FORUMS  http://cafepharma.com/boards/threads/epstein.5...   \n",
       "1  FORUMS  http://www.patient.co.uk/forums/discuss/enlarg...   \n",
       "2    BLOG  http://abcnewsradioonline.com/entertainment-ne...   \n",
       "3  FORUMS  http://www.cancer-forums.net/viewtopic.php?f=1...   \n",
       "4  FORUMS  http://www.diyaudio.com/forums/lounge/292252-d...   \n",
       "\n",
       "                                               Title  \\\n",
       "0                                            Epstein   \n",
       "1               Enlarged Heart.Thread Enlarged Heart   \n",
       "2  Queen Latifah Joins American Heart Association...   \n",
       "3                                           Bulaemia   \n",
       "4               DIY Silver interconnects and RCAs???   \n",
       "\n",
       "                                     TRANS_CONV_TEXT  Patient_Tag  \n",
       "0  I don't disagree with you in principle. I'm ju...            0  \n",
       "1  I am always dizzy I get dizzy standing up so I...            1  \n",
       "2  Axelle/Bauer-Griffin/FilmMagic(NEW YORK) -- Qu...            0  \n",
       "3  I am 17 and I have been throwing up for about ...            1  \n",
       "4  Quote: Originally Posted by Boyan Silyavski Wa...            0  "
      ]
     },
     "execution_count": 7,
     "metadata": {},
     "output_type": "execute_result"
    }
   ],
   "source": [
    "train.head(5)"
   ]
  },
  {
   "cell_type": "code",
   "execution_count": 16,
   "metadata": {},
   "outputs": [
    {
     "data": {
      "application/vnd.jupyter.widget-view+json": {
       "model_id": "6f4d40656b8f427abd4652d46cec9b4d",
       "version_major": 2,
       "version_minor": 0
      },
      "text/plain": [
       "HBox(children=(IntProgress(value=0, max=1156), HTML(value='')))"
      ]
     },
     "metadata": {},
     "output_type": "display_data"
    },
    {
     "name": "stdout",
     "output_type": "stream",
     "text": [
      "\n"
     ]
    },
    {
     "data": {
      "application/vnd.jupyter.widget-view+json": {
       "model_id": "df319f6552fa4a7ab00b059d80c59d78",
       "version_major": 2,
       "version_minor": 0
      },
      "text/plain": [
       "HBox(children=(IntProgress(value=0, max=1156), HTML(value='')))"
      ]
     },
     "metadata": {},
     "output_type": "display_data"
    },
    {
     "name": "stdout",
     "output_type": "stream",
     "text": [
      "\n"
     ]
    }
   ],
   "source": [
    "df_features = get_text_features(train)"
   ]
  },
  {
   "cell_type": "code",
   "execution_count": 43,
   "metadata": {},
   "outputs": [
    {
     "data": {
      "application/vnd.jupyter.widget-view+json": {
       "model_id": "1dac316268694bea82750661af4851fa",
       "version_major": 2,
       "version_minor": 0
      },
      "text/plain": [
       "HBox(children=(IntProgress(value=0, max=1156), HTML(value='')))"
      ]
     },
     "metadata": {},
     "output_type": "display_data"
    },
    {
     "name": "stdout",
     "output_type": "stream",
     "text": [
      "\n"
     ]
    },
    {
     "data": {
      "application/vnd.jupyter.widget-view+json": {
       "model_id": "064fa8ac03504fa685d98f9fbba313fb",
       "version_major": 2,
       "version_minor": 0
      },
      "text/plain": [
       "HBox(children=(IntProgress(value=0, max=1156), HTML(value='')))"
      ]
     },
     "metadata": {},
     "output_type": "display_data"
    },
    {
     "name": "stdout",
     "output_type": "stream",
     "text": [
      "\n"
     ]
    }
   ],
   "source": [
    "df_train, X, vectorizer_text, vectorizer_link, vectorizer_domain, vectorizer_title, label_encoder_src, features = get_train_transforms(train)"
   ]
  },
  {
   "cell_type": "code",
   "execution_count": 19,
   "metadata": {},
   "outputs": [],
   "source": [
    "# df = train.copy()\n",
    "# df2 = df_features.copy()\n",
    "\n",
    "# corpus_text = df2.TRANS_CONV_TEXT.values\n",
    "# corpus_link = df2.Link.values\n",
    "# corpus_domain = df2.Domain.values\n",
    "# corpus_title = df2.Title.values\n",
    "\n",
    "# vectorizer_text = TfidfVectorizer(max_df=0.05, max_features=500)\n",
    "# X_text = vectorizer_text.fit_transform(corpus_text)\n",
    "\n",
    "# vectorizer_link = TfidfVectorizer(max_df=0.05, max_features=500)\n",
    "# X_link = vectorizer_link.fit_transform(corpus_link)\n",
    "\n",
    "# vectorizer_domain = TfidfVectorizer(max_df=0.05, max_features=500)\n",
    "# X_domain = vectorizer_domain.fit_transform(corpus_domain)\n",
    "\n",
    "# vectorizer_title = TfidfVectorizer(max_df=0.1, max_features=70)\n",
    "# X_title = vectorizer_title.fit_transform(corpus_title)\n",
    "\n",
    "# text_feat = np.array(['TRANS_CONV_TEXT.'], dtype=np.object) + np.asarray(vectorizer_text.get_feature_names(), dtype=np.object)\n",
    "# link_feat = np.array(['LINK.'], dtype=np.object) + np.asarray(vectorizer_link.get_feature_names(), dtype=np.object)\n",
    "# dom_feat =  np.array(['DOMAIN.'], dtype=np.object) + np.asarray(vectorizer_domain.get_feature_names(), dtype=np.object)\n",
    "# titl_feat = np.array(['TITLE.'], dtype=np.object) + np.asarray(vectorizer_title.get_feature_names(), dtype=np.object)\n",
    "# sub_feat = ['Source', 'word_count', 'len_stopwords']\n",
    "\n",
    "# features = np.hstack([text_feat, link_feat, dom_feat, titl_feat, sub_feat])\n",
    "# features\n",
    "\n",
    "# df_sub = df[['Source']]\n",
    "\n",
    "# df_sub.Source = df_sub[['Source']].applymap(str.lower)\n",
    "\n",
    "# label_encoder_src = LabelEncoder()\n",
    "# df_sub['Source'] = label_encoder_src.fit_transform(df_sub.Source).astype('int')\n",
    "\n",
    "# df_sub['word_count'] = df2['TRANS_CONV_TEXT'].apply(lambda x: len(str(x).split(' ')))\n",
    "# df_sub['len_stopwords'] = df.TRANS_CONV_TEXT.apply(lambda x: len(str(x).split(' ')))\n",
    "# df_sub.len_stopwords = df_sub.len_stopwords - df_sub.word_count\n",
    "\n",
    "# #df1=X_text, df2=X_link, df3=df_sub\n",
    "\n",
    "# df_text = pd.DataFrame(data=csr_matrix(X_text).todense())\n",
    "# df_link = pd.DataFrame(data=csr_matrix(X_link).todense())\n",
    "# df_domain = pd.DataFrame(data=csr_matrix(X_domain).todense())\n",
    "# df_title = pd.DataFrame(data=csr_matrix(X_title).todense())\n",
    "\n",
    "# df_train = pd.DataFrame(np.hstack([df_text, df_link, df_domain, df_title, df_sub]))\n",
    "# df_train.head()"
   ]
  },
  {
   "cell_type": "code",
   "execution_count": 44,
   "metadata": {},
   "outputs": [],
   "source": [
    "y = train.Patient_Tag.values\n",
    "\n",
    "rfc = RandomForestClassifier(n_estimators=522, min_samples_split=10, min_samples_leaf=1, max_features='auto', max_depth=700, bootstrap=True)\n",
    "rfc.fit(X, y)\n",
    "\n",
    "importance = rfc.feature_importances_"
   ]
  },
  {
   "cell_type": "code",
   "execution_count": 67,
   "metadata": {},
   "outputs": [],
   "source": [
    "feature_importance_df = pd.DataFrame(data = {'Feature_name':features, 'Importance': importance})\n",
    "most_important = feature_importance_df.sort_values('Importance', ascending = False).iloc[:70]\n",
    "\n",
    "# most_important = most_important[most_important.Importance >= 0.006]\n",
    "indexes_important = list(most_important.index)"
   ]
  },
  {
   "cell_type": "code",
   "execution_count": 68,
   "metadata": {},
   "outputs": [
    {
     "data": {
      "text/plain": [
       "70"
      ]
     },
     "execution_count": 68,
     "metadata": {},
     "output_type": "execute_result"
    }
   ],
   "source": [
    "len(indexes_important)"
   ]
  },
  {
   "cell_type": "code",
   "execution_count": 53,
   "metadata": {},
   "outputs": [
    {
     "data": {
      "application/vnd.plotly.v1+json": {
       "config": {
        "plotlyServerURL": "https://plot.ly"
       },
       "data": [
        {
         "type": "bar",
         "x": [
          "Source",
          "TRANS_CONV_TEXT.thank",
          "word_count",
          "TRANS_CONV_TEXT.disability",
          "TRANS_CONV_TEXT.god",
          "len_stopwords",
          "TRANS_CONV_TEXT.med",
          "LINK.permalink",
          "LINK.wall",
          "LINK.fbid",
          "TRANS_CONV_TEXT.icd",
          "DOMAIN.babycenter",
          "LINK.babycenter",
          "TRANS_CONV_TEXT.implant",
          "LINK.order",
          "TRANS_CONV_TEXT.felt",
          "TRANS_CONV_TEXT.else",
          "LINK.discuss",
          "DOMAIN.patient",
          "TRANS_CONV_TEXT.smoke",
          "TRANS_CONV_TEXT.yes",
          "TRANS_CONV_TEXT.thyroid",
          "TRANS_CONV_TEXT.saw",
          "LINK.icdsupportgroup",
          "TRANS_CONV_TEXT.shock",
          "DOMAIN.icdsupportgroup",
          "TRANS_CONV_TEXT.finally",
          "TRANS_CONV_TEXT.trouble",
          "TRANS_CONV_TEXT.maybe",
          "TRANS_CONV_TEXT.everything",
          "TRANS_CONV_TEXT.couple",
          "LINK.patient",
          "TRANS_CONV_TEXT.bit",
          "TRANS_CONV_TEXT.almost",
          "TRANS_CONV_TEXT.admit",
          "TRANS_CONV_TEXT.slow",
          "TRANS_CONV_TEXT.then",
          "TRANS_CONV_TEXT.alone",
          "TRANS_CONV_TEXT.echo",
          "TRANS_CONV_TEXT.fraction",
          "TRANS_CONV_TEXT.short",
          "TRANS_CONV_TEXT.cardiomyopathy",
          "TRANS_CONV_TEXT.pretty",
          "LINK.board",
          "TRANS_CONV_TEXT.valve",
          "DOMAIN.forum",
          "TRANS_CONV_TEXT.infection",
          "LINK.latest",
          "TRANS_CONV_TEXT.happy",
          "TRANS_CONV_TEXT.ejection"
         ],
         "y": [
          0.034016098020047396,
          0.029768175351723884,
          0.01891730464691174,
          0.01779981998626973,
          0.01574576185482683,
          0.015712205851959232,
          0.015043161593995316,
          0.0144499780205148,
          0.014295805452501859,
          0.013871047328697875,
          0.011569214238560504,
          0.010519790519826785,
          0.010052802069574124,
          0.009401215908957636,
          0.009300680571150365,
          0.008987140638608171,
          0.008789913446982342,
          0.008555095347546183,
          0.008370364126750159,
          0.00778077718917927,
          0.007631207401749379,
          0.00747650725618553,
          0.007344790492740493,
          0.007338389181225725,
          0.007282229292011144,
          0.006769211860379477,
          0.006716105773693134,
          0.006535456275840992,
          0.006315688730782702,
          0.0062524119051232735,
          0.006252186283538959,
          0.006148774829445233,
          0.006093019737858771,
          0.006009393409694496,
          0.005983343492664572,
          0.0059716917820121064,
          0.005871602841267646,
          0.005647862425075521,
          0.005565127319967711,
          0.0053641967337737,
          0.005212229718759405,
          0.0051929225467004176,
          0.005130129112925858,
          0.004811935647309506,
          0.004792871813794447,
          0.004697436414436605,
          0.00469255675415951,
          0.004651434234300901,
          0.004647830879969533,
          0.00452840074143111
         ]
        }
       ],
       "layout": {
        "template": {
         "data": {
          "bar": [
           {
            "error_x": {
             "color": "#2a3f5f"
            },
            "error_y": {
             "color": "#2a3f5f"
            },
            "marker": {
             "line": {
              "color": "#E5ECF6",
              "width": 0.5
             }
            },
            "type": "bar"
           }
          ],
          "barpolar": [
           {
            "marker": {
             "line": {
              "color": "#E5ECF6",
              "width": 0.5
             }
            },
            "type": "barpolar"
           }
          ],
          "carpet": [
           {
            "aaxis": {
             "endlinecolor": "#2a3f5f",
             "gridcolor": "white",
             "linecolor": "white",
             "minorgridcolor": "white",
             "startlinecolor": "#2a3f5f"
            },
            "baxis": {
             "endlinecolor": "#2a3f5f",
             "gridcolor": "white",
             "linecolor": "white",
             "minorgridcolor": "white",
             "startlinecolor": "#2a3f5f"
            },
            "type": "carpet"
           }
          ],
          "choropleth": [
           {
            "colorbar": {
             "outlinewidth": 0,
             "ticks": ""
            },
            "type": "choropleth"
           }
          ],
          "contour": [
           {
            "colorbar": {
             "outlinewidth": 0,
             "ticks": ""
            },
            "colorscale": [
             [
              0,
              "#0d0887"
             ],
             [
              0.1111111111111111,
              "#46039f"
             ],
             [
              0.2222222222222222,
              "#7201a8"
             ],
             [
              0.3333333333333333,
              "#9c179e"
             ],
             [
              0.4444444444444444,
              "#bd3786"
             ],
             [
              0.5555555555555556,
              "#d8576b"
             ],
             [
              0.6666666666666666,
              "#ed7953"
             ],
             [
              0.7777777777777778,
              "#fb9f3a"
             ],
             [
              0.8888888888888888,
              "#fdca26"
             ],
             [
              1,
              "#f0f921"
             ]
            ],
            "type": "contour"
           }
          ],
          "contourcarpet": [
           {
            "colorbar": {
             "outlinewidth": 0,
             "ticks": ""
            },
            "type": "contourcarpet"
           }
          ],
          "heatmap": [
           {
            "colorbar": {
             "outlinewidth": 0,
             "ticks": ""
            },
            "colorscale": [
             [
              0,
              "#0d0887"
             ],
             [
              0.1111111111111111,
              "#46039f"
             ],
             [
              0.2222222222222222,
              "#7201a8"
             ],
             [
              0.3333333333333333,
              "#9c179e"
             ],
             [
              0.4444444444444444,
              "#bd3786"
             ],
             [
              0.5555555555555556,
              "#d8576b"
             ],
             [
              0.6666666666666666,
              "#ed7953"
             ],
             [
              0.7777777777777778,
              "#fb9f3a"
             ],
             [
              0.8888888888888888,
              "#fdca26"
             ],
             [
              1,
              "#f0f921"
             ]
            ],
            "type": "heatmap"
           }
          ],
          "heatmapgl": [
           {
            "colorbar": {
             "outlinewidth": 0,
             "ticks": ""
            },
            "colorscale": [
             [
              0,
              "#0d0887"
             ],
             [
              0.1111111111111111,
              "#46039f"
             ],
             [
              0.2222222222222222,
              "#7201a8"
             ],
             [
              0.3333333333333333,
              "#9c179e"
             ],
             [
              0.4444444444444444,
              "#bd3786"
             ],
             [
              0.5555555555555556,
              "#d8576b"
             ],
             [
              0.6666666666666666,
              "#ed7953"
             ],
             [
              0.7777777777777778,
              "#fb9f3a"
             ],
             [
              0.8888888888888888,
              "#fdca26"
             ],
             [
              1,
              "#f0f921"
             ]
            ],
            "type": "heatmapgl"
           }
          ],
          "histogram": [
           {
            "marker": {
             "colorbar": {
              "outlinewidth": 0,
              "ticks": ""
             }
            },
            "type": "histogram"
           }
          ],
          "histogram2d": [
           {
            "colorbar": {
             "outlinewidth": 0,
             "ticks": ""
            },
            "colorscale": [
             [
              0,
              "#0d0887"
             ],
             [
              0.1111111111111111,
              "#46039f"
             ],
             [
              0.2222222222222222,
              "#7201a8"
             ],
             [
              0.3333333333333333,
              "#9c179e"
             ],
             [
              0.4444444444444444,
              "#bd3786"
             ],
             [
              0.5555555555555556,
              "#d8576b"
             ],
             [
              0.6666666666666666,
              "#ed7953"
             ],
             [
              0.7777777777777778,
              "#fb9f3a"
             ],
             [
              0.8888888888888888,
              "#fdca26"
             ],
             [
              1,
              "#f0f921"
             ]
            ],
            "type": "histogram2d"
           }
          ],
          "histogram2dcontour": [
           {
            "colorbar": {
             "outlinewidth": 0,
             "ticks": ""
            },
            "colorscale": [
             [
              0,
              "#0d0887"
             ],
             [
              0.1111111111111111,
              "#46039f"
             ],
             [
              0.2222222222222222,
              "#7201a8"
             ],
             [
              0.3333333333333333,
              "#9c179e"
             ],
             [
              0.4444444444444444,
              "#bd3786"
             ],
             [
              0.5555555555555556,
              "#d8576b"
             ],
             [
              0.6666666666666666,
              "#ed7953"
             ],
             [
              0.7777777777777778,
              "#fb9f3a"
             ],
             [
              0.8888888888888888,
              "#fdca26"
             ],
             [
              1,
              "#f0f921"
             ]
            ],
            "type": "histogram2dcontour"
           }
          ],
          "mesh3d": [
           {
            "colorbar": {
             "outlinewidth": 0,
             "ticks": ""
            },
            "type": "mesh3d"
           }
          ],
          "parcoords": [
           {
            "line": {
             "colorbar": {
              "outlinewidth": 0,
              "ticks": ""
             }
            },
            "type": "parcoords"
           }
          ],
          "pie": [
           {
            "automargin": true,
            "type": "pie"
           }
          ],
          "scatter": [
           {
            "marker": {
             "colorbar": {
              "outlinewidth": 0,
              "ticks": ""
             }
            },
            "type": "scatter"
           }
          ],
          "scatter3d": [
           {
            "line": {
             "colorbar": {
              "outlinewidth": 0,
              "ticks": ""
             }
            },
            "marker": {
             "colorbar": {
              "outlinewidth": 0,
              "ticks": ""
             }
            },
            "type": "scatter3d"
           }
          ],
          "scattercarpet": [
           {
            "marker": {
             "colorbar": {
              "outlinewidth": 0,
              "ticks": ""
             }
            },
            "type": "scattercarpet"
           }
          ],
          "scattergeo": [
           {
            "marker": {
             "colorbar": {
              "outlinewidth": 0,
              "ticks": ""
             }
            },
            "type": "scattergeo"
           }
          ],
          "scattergl": [
           {
            "marker": {
             "colorbar": {
              "outlinewidth": 0,
              "ticks": ""
             }
            },
            "type": "scattergl"
           }
          ],
          "scattermapbox": [
           {
            "marker": {
             "colorbar": {
              "outlinewidth": 0,
              "ticks": ""
             }
            },
            "type": "scattermapbox"
           }
          ],
          "scatterpolar": [
           {
            "marker": {
             "colorbar": {
              "outlinewidth": 0,
              "ticks": ""
             }
            },
            "type": "scatterpolar"
           }
          ],
          "scatterpolargl": [
           {
            "marker": {
             "colorbar": {
              "outlinewidth": 0,
              "ticks": ""
             }
            },
            "type": "scatterpolargl"
           }
          ],
          "scatterternary": [
           {
            "marker": {
             "colorbar": {
              "outlinewidth": 0,
              "ticks": ""
             }
            },
            "type": "scatterternary"
           }
          ],
          "surface": [
           {
            "colorbar": {
             "outlinewidth": 0,
             "ticks": ""
            },
            "colorscale": [
             [
              0,
              "#0d0887"
             ],
             [
              0.1111111111111111,
              "#46039f"
             ],
             [
              0.2222222222222222,
              "#7201a8"
             ],
             [
              0.3333333333333333,
              "#9c179e"
             ],
             [
              0.4444444444444444,
              "#bd3786"
             ],
             [
              0.5555555555555556,
              "#d8576b"
             ],
             [
              0.6666666666666666,
              "#ed7953"
             ],
             [
              0.7777777777777778,
              "#fb9f3a"
             ],
             [
              0.8888888888888888,
              "#fdca26"
             ],
             [
              1,
              "#f0f921"
             ]
            ],
            "type": "surface"
           }
          ],
          "table": [
           {
            "cells": {
             "fill": {
              "color": "#EBF0F8"
             },
             "line": {
              "color": "white"
             }
            },
            "header": {
             "fill": {
              "color": "#C8D4E3"
             },
             "line": {
              "color": "white"
             }
            },
            "type": "table"
           }
          ]
         },
         "layout": {
          "annotationdefaults": {
           "arrowcolor": "#2a3f5f",
           "arrowhead": 0,
           "arrowwidth": 1
          },
          "coloraxis": {
           "colorbar": {
            "outlinewidth": 0,
            "ticks": ""
           }
          },
          "colorscale": {
           "diverging": [
            [
             0,
             "#8e0152"
            ],
            [
             0.1,
             "#c51b7d"
            ],
            [
             0.2,
             "#de77ae"
            ],
            [
             0.3,
             "#f1b6da"
            ],
            [
             0.4,
             "#fde0ef"
            ],
            [
             0.5,
             "#f7f7f7"
            ],
            [
             0.6,
             "#e6f5d0"
            ],
            [
             0.7,
             "#b8e186"
            ],
            [
             0.8,
             "#7fbc41"
            ],
            [
             0.9,
             "#4d9221"
            ],
            [
             1,
             "#276419"
            ]
           ],
           "sequential": [
            [
             0,
             "#0d0887"
            ],
            [
             0.1111111111111111,
             "#46039f"
            ],
            [
             0.2222222222222222,
             "#7201a8"
            ],
            [
             0.3333333333333333,
             "#9c179e"
            ],
            [
             0.4444444444444444,
             "#bd3786"
            ],
            [
             0.5555555555555556,
             "#d8576b"
            ],
            [
             0.6666666666666666,
             "#ed7953"
            ],
            [
             0.7777777777777778,
             "#fb9f3a"
            ],
            [
             0.8888888888888888,
             "#fdca26"
            ],
            [
             1,
             "#f0f921"
            ]
           ],
           "sequentialminus": [
            [
             0,
             "#0d0887"
            ],
            [
             0.1111111111111111,
             "#46039f"
            ],
            [
             0.2222222222222222,
             "#7201a8"
            ],
            [
             0.3333333333333333,
             "#9c179e"
            ],
            [
             0.4444444444444444,
             "#bd3786"
            ],
            [
             0.5555555555555556,
             "#d8576b"
            ],
            [
             0.6666666666666666,
             "#ed7953"
            ],
            [
             0.7777777777777778,
             "#fb9f3a"
            ],
            [
             0.8888888888888888,
             "#fdca26"
            ],
            [
             1,
             "#f0f921"
            ]
           ]
          },
          "colorway": [
           "#636efa",
           "#EF553B",
           "#00cc96",
           "#ab63fa",
           "#FFA15A",
           "#19d3f3",
           "#FF6692",
           "#B6E880",
           "#FF97FF",
           "#FECB52"
          ],
          "font": {
           "color": "#2a3f5f"
          },
          "geo": {
           "bgcolor": "white",
           "lakecolor": "white",
           "landcolor": "#E5ECF6",
           "showlakes": true,
           "showland": true,
           "subunitcolor": "white"
          },
          "hoverlabel": {
           "align": "left"
          },
          "hovermode": "closest",
          "mapbox": {
           "style": "light"
          },
          "paper_bgcolor": "white",
          "plot_bgcolor": "#E5ECF6",
          "polar": {
           "angularaxis": {
            "gridcolor": "white",
            "linecolor": "white",
            "ticks": ""
           },
           "bgcolor": "#E5ECF6",
           "radialaxis": {
            "gridcolor": "white",
            "linecolor": "white",
            "ticks": ""
           }
          },
          "scene": {
           "xaxis": {
            "backgroundcolor": "#E5ECF6",
            "gridcolor": "white",
            "gridwidth": 2,
            "linecolor": "white",
            "showbackground": true,
            "ticks": "",
            "zerolinecolor": "white"
           },
           "yaxis": {
            "backgroundcolor": "#E5ECF6",
            "gridcolor": "white",
            "gridwidth": 2,
            "linecolor": "white",
            "showbackground": true,
            "ticks": "",
            "zerolinecolor": "white"
           },
           "zaxis": {
            "backgroundcolor": "#E5ECF6",
            "gridcolor": "white",
            "gridwidth": 2,
            "linecolor": "white",
            "showbackground": true,
            "ticks": "",
            "zerolinecolor": "white"
           }
          },
          "shapedefaults": {
           "line": {
            "color": "#2a3f5f"
           }
          },
          "ternary": {
           "aaxis": {
            "gridcolor": "white",
            "linecolor": "white",
            "ticks": ""
           },
           "baxis": {
            "gridcolor": "white",
            "linecolor": "white",
            "ticks": ""
           },
           "bgcolor": "#E5ECF6",
           "caxis": {
            "gridcolor": "white",
            "linecolor": "white",
            "ticks": ""
           }
          },
          "title": {
           "x": 0.05
          },
          "xaxis": {
           "automargin": true,
           "gridcolor": "white",
           "linecolor": "white",
           "ticks": "",
           "title": {
            "standoff": 15
           },
           "zerolinecolor": "white",
           "zerolinewidth": 2
          },
          "yaxis": {
           "automargin": true,
           "gridcolor": "white",
           "linecolor": "white",
           "ticks": "",
           "title": {
            "standoff": 15
           },
           "zerolinecolor": "white",
           "zerolinewidth": 2
          }
         }
        }
       }
      },
      "text/html": [
       "<div>\n",
       "        \n",
       "        \n",
       "            <div id=\"43e68d3d-c0e2-4c83-b02a-26bb8431139d\" class=\"plotly-graph-div\" style=\"height:525px; width:100%;\"></div>\n",
       "            <script type=\"text/javascript\">\n",
       "                require([\"plotly\"], function(Plotly) {\n",
       "                    window.PLOTLYENV=window.PLOTLYENV || {};\n",
       "                    \n",
       "                if (document.getElementById(\"43e68d3d-c0e2-4c83-b02a-26bb8431139d\")) {\n",
       "                    Plotly.newPlot(\n",
       "                        '43e68d3d-c0e2-4c83-b02a-26bb8431139d',\n",
       "                        [{\"type\": \"bar\", \"x\": [\"Source\", \"TRANS_CONV_TEXT.thank\", \"word_count\", \"TRANS_CONV_TEXT.disability\", \"TRANS_CONV_TEXT.god\", \"len_stopwords\", \"TRANS_CONV_TEXT.med\", \"LINK.permalink\", \"LINK.wall\", \"LINK.fbid\", \"TRANS_CONV_TEXT.icd\", \"DOMAIN.babycenter\", \"LINK.babycenter\", \"TRANS_CONV_TEXT.implant\", \"LINK.order\", \"TRANS_CONV_TEXT.felt\", \"TRANS_CONV_TEXT.else\", \"LINK.discuss\", \"DOMAIN.patient\", \"TRANS_CONV_TEXT.smoke\", \"TRANS_CONV_TEXT.yes\", \"TRANS_CONV_TEXT.thyroid\", \"TRANS_CONV_TEXT.saw\", \"LINK.icdsupportgroup\", \"TRANS_CONV_TEXT.shock\", \"DOMAIN.icdsupportgroup\", \"TRANS_CONV_TEXT.finally\", \"TRANS_CONV_TEXT.trouble\", \"TRANS_CONV_TEXT.maybe\", \"TRANS_CONV_TEXT.everything\", \"TRANS_CONV_TEXT.couple\", \"LINK.patient\", \"TRANS_CONV_TEXT.bit\", \"TRANS_CONV_TEXT.almost\", \"TRANS_CONV_TEXT.admit\", \"TRANS_CONV_TEXT.slow\", \"TRANS_CONV_TEXT.then\", \"TRANS_CONV_TEXT.alone\", \"TRANS_CONV_TEXT.echo\", \"TRANS_CONV_TEXT.fraction\", \"TRANS_CONV_TEXT.short\", \"TRANS_CONV_TEXT.cardiomyopathy\", \"TRANS_CONV_TEXT.pretty\", \"LINK.board\", \"TRANS_CONV_TEXT.valve\", \"DOMAIN.forum\", \"TRANS_CONV_TEXT.infection\", \"LINK.latest\", \"TRANS_CONV_TEXT.happy\", \"TRANS_CONV_TEXT.ejection\"], \"y\": [0.034016098020047396, 0.029768175351723884, 0.01891730464691174, 0.01779981998626973, 0.01574576185482683, 0.015712205851959232, 0.015043161593995316, 0.0144499780205148, 0.014295805452501859, 0.013871047328697875, 0.011569214238560504, 0.010519790519826785, 0.010052802069574124, 0.009401215908957636, 0.009300680571150365, 0.008987140638608171, 0.008789913446982342, 0.008555095347546183, 0.008370364126750159, 0.00778077718917927, 0.007631207401749379, 0.00747650725618553, 0.007344790492740493, 0.007338389181225725, 0.007282229292011144, 0.006769211860379477, 0.006716105773693134, 0.006535456275840992, 0.006315688730782702, 0.0062524119051232735, 0.006252186283538959, 0.006148774829445233, 0.006093019737858771, 0.006009393409694496, 0.005983343492664572, 0.0059716917820121064, 0.005871602841267646, 0.005647862425075521, 0.005565127319967711, 0.0053641967337737, 0.005212229718759405, 0.0051929225467004176, 0.005130129112925858, 0.004811935647309506, 0.004792871813794447, 0.004697436414436605, 0.00469255675415951, 0.004651434234300901, 0.004647830879969533, 0.00452840074143111]}],\n",
       "                        {\"template\": {\"data\": {\"bar\": [{\"error_x\": {\"color\": \"#2a3f5f\"}, \"error_y\": {\"color\": \"#2a3f5f\"}, \"marker\": {\"line\": {\"color\": \"#E5ECF6\", \"width\": 0.5}}, \"type\": \"bar\"}], \"barpolar\": [{\"marker\": {\"line\": {\"color\": \"#E5ECF6\", \"width\": 0.5}}, \"type\": \"barpolar\"}], \"carpet\": [{\"aaxis\": {\"endlinecolor\": \"#2a3f5f\", \"gridcolor\": \"white\", \"linecolor\": \"white\", \"minorgridcolor\": \"white\", \"startlinecolor\": \"#2a3f5f\"}, \"baxis\": {\"endlinecolor\": \"#2a3f5f\", \"gridcolor\": \"white\", \"linecolor\": \"white\", \"minorgridcolor\": \"white\", \"startlinecolor\": \"#2a3f5f\"}, \"type\": \"carpet\"}], \"choropleth\": [{\"colorbar\": {\"outlinewidth\": 0, \"ticks\": \"\"}, \"type\": \"choropleth\"}], \"contour\": [{\"colorbar\": {\"outlinewidth\": 0, \"ticks\": \"\"}, \"colorscale\": [[0.0, \"#0d0887\"], [0.1111111111111111, \"#46039f\"], [0.2222222222222222, \"#7201a8\"], [0.3333333333333333, \"#9c179e\"], [0.4444444444444444, \"#bd3786\"], [0.5555555555555556, \"#d8576b\"], [0.6666666666666666, \"#ed7953\"], [0.7777777777777778, \"#fb9f3a\"], [0.8888888888888888, \"#fdca26\"], [1.0, \"#f0f921\"]], \"type\": \"contour\"}], \"contourcarpet\": [{\"colorbar\": {\"outlinewidth\": 0, \"ticks\": \"\"}, \"type\": \"contourcarpet\"}], \"heatmap\": [{\"colorbar\": {\"outlinewidth\": 0, \"ticks\": \"\"}, \"colorscale\": [[0.0, \"#0d0887\"], [0.1111111111111111, \"#46039f\"], [0.2222222222222222, \"#7201a8\"], [0.3333333333333333, \"#9c179e\"], [0.4444444444444444, \"#bd3786\"], [0.5555555555555556, \"#d8576b\"], [0.6666666666666666, \"#ed7953\"], [0.7777777777777778, \"#fb9f3a\"], [0.8888888888888888, \"#fdca26\"], [1.0, \"#f0f921\"]], \"type\": \"heatmap\"}], \"heatmapgl\": [{\"colorbar\": {\"outlinewidth\": 0, \"ticks\": \"\"}, \"colorscale\": [[0.0, \"#0d0887\"], [0.1111111111111111, \"#46039f\"], [0.2222222222222222, \"#7201a8\"], [0.3333333333333333, \"#9c179e\"], [0.4444444444444444, \"#bd3786\"], [0.5555555555555556, \"#d8576b\"], [0.6666666666666666, \"#ed7953\"], [0.7777777777777778, \"#fb9f3a\"], [0.8888888888888888, \"#fdca26\"], [1.0, \"#f0f921\"]], \"type\": \"heatmapgl\"}], \"histogram\": [{\"marker\": {\"colorbar\": {\"outlinewidth\": 0, \"ticks\": \"\"}}, \"type\": \"histogram\"}], \"histogram2d\": [{\"colorbar\": {\"outlinewidth\": 0, \"ticks\": \"\"}, \"colorscale\": [[0.0, \"#0d0887\"], [0.1111111111111111, \"#46039f\"], [0.2222222222222222, \"#7201a8\"], [0.3333333333333333, \"#9c179e\"], [0.4444444444444444, \"#bd3786\"], [0.5555555555555556, \"#d8576b\"], [0.6666666666666666, \"#ed7953\"], [0.7777777777777778, \"#fb9f3a\"], [0.8888888888888888, \"#fdca26\"], [1.0, \"#f0f921\"]], \"type\": \"histogram2d\"}], \"histogram2dcontour\": [{\"colorbar\": {\"outlinewidth\": 0, \"ticks\": \"\"}, \"colorscale\": [[0.0, \"#0d0887\"], [0.1111111111111111, \"#46039f\"], [0.2222222222222222, \"#7201a8\"], [0.3333333333333333, \"#9c179e\"], [0.4444444444444444, \"#bd3786\"], [0.5555555555555556, \"#d8576b\"], [0.6666666666666666, \"#ed7953\"], [0.7777777777777778, \"#fb9f3a\"], [0.8888888888888888, \"#fdca26\"], [1.0, \"#f0f921\"]], \"type\": \"histogram2dcontour\"}], \"mesh3d\": [{\"colorbar\": {\"outlinewidth\": 0, \"ticks\": \"\"}, \"type\": \"mesh3d\"}], \"parcoords\": [{\"line\": {\"colorbar\": {\"outlinewidth\": 0, \"ticks\": \"\"}}, \"type\": \"parcoords\"}], \"pie\": [{\"automargin\": true, \"type\": \"pie\"}], \"scatter\": [{\"marker\": {\"colorbar\": {\"outlinewidth\": 0, \"ticks\": \"\"}}, \"type\": \"scatter\"}], \"scatter3d\": [{\"line\": {\"colorbar\": {\"outlinewidth\": 0, \"ticks\": \"\"}}, \"marker\": {\"colorbar\": {\"outlinewidth\": 0, \"ticks\": \"\"}}, \"type\": \"scatter3d\"}], \"scattercarpet\": [{\"marker\": {\"colorbar\": {\"outlinewidth\": 0, \"ticks\": \"\"}}, \"type\": \"scattercarpet\"}], \"scattergeo\": [{\"marker\": {\"colorbar\": {\"outlinewidth\": 0, \"ticks\": \"\"}}, \"type\": \"scattergeo\"}], \"scattergl\": [{\"marker\": {\"colorbar\": {\"outlinewidth\": 0, \"ticks\": \"\"}}, \"type\": \"scattergl\"}], \"scattermapbox\": [{\"marker\": {\"colorbar\": {\"outlinewidth\": 0, \"ticks\": \"\"}}, \"type\": \"scattermapbox\"}], \"scatterpolar\": [{\"marker\": {\"colorbar\": {\"outlinewidth\": 0, \"ticks\": \"\"}}, \"type\": \"scatterpolar\"}], \"scatterpolargl\": [{\"marker\": {\"colorbar\": {\"outlinewidth\": 0, \"ticks\": \"\"}}, \"type\": \"scatterpolargl\"}], \"scatterternary\": [{\"marker\": {\"colorbar\": {\"outlinewidth\": 0, \"ticks\": \"\"}}, \"type\": \"scatterternary\"}], \"surface\": [{\"colorbar\": {\"outlinewidth\": 0, \"ticks\": \"\"}, \"colorscale\": [[0.0, \"#0d0887\"], [0.1111111111111111, \"#46039f\"], [0.2222222222222222, \"#7201a8\"], [0.3333333333333333, \"#9c179e\"], [0.4444444444444444, \"#bd3786\"], [0.5555555555555556, \"#d8576b\"], [0.6666666666666666, \"#ed7953\"], [0.7777777777777778, \"#fb9f3a\"], [0.8888888888888888, \"#fdca26\"], [1.0, \"#f0f921\"]], \"type\": \"surface\"}], \"table\": [{\"cells\": {\"fill\": {\"color\": \"#EBF0F8\"}, \"line\": {\"color\": \"white\"}}, \"header\": {\"fill\": {\"color\": \"#C8D4E3\"}, \"line\": {\"color\": \"white\"}}, \"type\": \"table\"}]}, \"layout\": {\"annotationdefaults\": {\"arrowcolor\": \"#2a3f5f\", \"arrowhead\": 0, \"arrowwidth\": 1}, \"coloraxis\": {\"colorbar\": {\"outlinewidth\": 0, \"ticks\": \"\"}}, \"colorscale\": {\"diverging\": [[0, \"#8e0152\"], [0.1, \"#c51b7d\"], [0.2, \"#de77ae\"], [0.3, \"#f1b6da\"], [0.4, \"#fde0ef\"], [0.5, \"#f7f7f7\"], [0.6, \"#e6f5d0\"], [0.7, \"#b8e186\"], [0.8, \"#7fbc41\"], [0.9, \"#4d9221\"], [1, \"#276419\"]], \"sequential\": [[0.0, \"#0d0887\"], [0.1111111111111111, \"#46039f\"], [0.2222222222222222, \"#7201a8\"], [0.3333333333333333, \"#9c179e\"], [0.4444444444444444, \"#bd3786\"], [0.5555555555555556, \"#d8576b\"], [0.6666666666666666, \"#ed7953\"], [0.7777777777777778, \"#fb9f3a\"], [0.8888888888888888, \"#fdca26\"], [1.0, \"#f0f921\"]], \"sequentialminus\": [[0.0, \"#0d0887\"], [0.1111111111111111, \"#46039f\"], [0.2222222222222222, \"#7201a8\"], [0.3333333333333333, \"#9c179e\"], [0.4444444444444444, \"#bd3786\"], [0.5555555555555556, \"#d8576b\"], [0.6666666666666666, \"#ed7953\"], [0.7777777777777778, \"#fb9f3a\"], [0.8888888888888888, \"#fdca26\"], [1.0, \"#f0f921\"]]}, \"colorway\": [\"#636efa\", \"#EF553B\", \"#00cc96\", \"#ab63fa\", \"#FFA15A\", \"#19d3f3\", \"#FF6692\", \"#B6E880\", \"#FF97FF\", \"#FECB52\"], \"font\": {\"color\": \"#2a3f5f\"}, \"geo\": {\"bgcolor\": \"white\", \"lakecolor\": \"white\", \"landcolor\": \"#E5ECF6\", \"showlakes\": true, \"showland\": true, \"subunitcolor\": \"white\"}, \"hoverlabel\": {\"align\": \"left\"}, \"hovermode\": \"closest\", \"mapbox\": {\"style\": \"light\"}, \"paper_bgcolor\": \"white\", \"plot_bgcolor\": \"#E5ECF6\", \"polar\": {\"angularaxis\": {\"gridcolor\": \"white\", \"linecolor\": \"white\", \"ticks\": \"\"}, \"bgcolor\": \"#E5ECF6\", \"radialaxis\": {\"gridcolor\": \"white\", \"linecolor\": \"white\", \"ticks\": \"\"}}, \"scene\": {\"xaxis\": {\"backgroundcolor\": \"#E5ECF6\", \"gridcolor\": \"white\", \"gridwidth\": 2, \"linecolor\": \"white\", \"showbackground\": true, \"ticks\": \"\", \"zerolinecolor\": \"white\"}, \"yaxis\": {\"backgroundcolor\": \"#E5ECF6\", \"gridcolor\": \"white\", \"gridwidth\": 2, \"linecolor\": \"white\", \"showbackground\": true, \"ticks\": \"\", \"zerolinecolor\": \"white\"}, \"zaxis\": {\"backgroundcolor\": \"#E5ECF6\", \"gridcolor\": \"white\", \"gridwidth\": 2, \"linecolor\": \"white\", \"showbackground\": true, \"ticks\": \"\", \"zerolinecolor\": \"white\"}}, \"shapedefaults\": {\"line\": {\"color\": \"#2a3f5f\"}}, \"ternary\": {\"aaxis\": {\"gridcolor\": \"white\", \"linecolor\": \"white\", \"ticks\": \"\"}, \"baxis\": {\"gridcolor\": \"white\", \"linecolor\": \"white\", \"ticks\": \"\"}, \"bgcolor\": \"#E5ECF6\", \"caxis\": {\"gridcolor\": \"white\", \"linecolor\": \"white\", \"ticks\": \"\"}}, \"title\": {\"x\": 0.05}, \"xaxis\": {\"automargin\": true, \"gridcolor\": \"white\", \"linecolor\": \"white\", \"ticks\": \"\", \"title\": {\"standoff\": 15}, \"zerolinecolor\": \"white\", \"zerolinewidth\": 2}, \"yaxis\": {\"automargin\": true, \"gridcolor\": \"white\", \"linecolor\": \"white\", \"ticks\": \"\", \"title\": {\"standoff\": 15}, \"zerolinecolor\": \"white\", \"zerolinewidth\": 2}}}},\n",
       "                        {\"responsive\": true}\n",
       "                    ).then(function(){\n",
       "                            \n",
       "var gd = document.getElementById('43e68d3d-c0e2-4c83-b02a-26bb8431139d');\n",
       "var x = new MutationObserver(function (mutations, observer) {{\n",
       "        var display = window.getComputedStyle(gd).display;\n",
       "        if (!display || display === 'none') {{\n",
       "            console.log([gd, 'removed!']);\n",
       "            Plotly.purge(gd);\n",
       "            observer.disconnect();\n",
       "        }}\n",
       "}});\n",
       "\n",
       "// Listen for the removal of the full notebook cells\n",
       "var notebookContainer = gd.closest('#notebook-container');\n",
       "if (notebookContainer) {{\n",
       "    x.observe(notebookContainer, {childList: true});\n",
       "}}\n",
       "\n",
       "// Listen for the clearing of the current output cell\n",
       "var outputEl = gd.closest('.output');\n",
       "if (outputEl) {{\n",
       "    x.observe(outputEl, {childList: true});\n",
       "}}\n",
       "\n",
       "                        })\n",
       "                };\n",
       "                });\n",
       "            </script>\n",
       "        </div>"
      ]
     },
     "metadata": {},
     "output_type": "display_data"
    }
   ],
   "source": [
    "import plotly.graph_objects as go\n",
    "\n",
    "fig = go.Figure([go.Bar(x=most_important.Feature_name, y=most_important.Importance)])\n",
    "fig.show()"
   ]
  },
  {
   "cell_type": "code",
   "execution_count": 69,
   "metadata": {},
   "outputs": [
    {
     "name": "stdout",
     "output_type": "stream",
     "text": [
      "[0.68493151 0.66666667 0.61333333]\n"
     ]
    }
   ],
   "source": [
    "df_train_100 = df_train.loc[:,indexes_important]\n",
    "y = train.Patient_Tag.values\n",
    "X = df_train_100.values\n",
    "rfc = RandomForestClassifier(n_estimators=522, min_samples_split=10, min_samples_leaf=1, max_features='auto', max_depth=700, bootstrap=True)\n",
    "print(cross_val_score(rfc, X, y, cv=3, scoring='f1'))"
   ]
  },
  {
   "cell_type": "code",
   "execution_count": null,
   "metadata": {},
   "outputs": [],
   "source": []
  },
  {
   "cell_type": "code",
   "execution_count": null,
   "metadata": {},
   "outputs": [],
   "source": []
  },
  {
   "cell_type": "code",
   "execution_count": null,
   "metadata": {},
   "outputs": [],
   "source": [
    "# X, vectorizer_text, vectorizer_link, label_encoder_src, label_encoder_src = get_train_transforms(train)\n",
    "# y = train.Patient_Tag.values\n",
    "#rfc = RandomForestClassifier(n_estimators=522, min_samples_split=10, min_samples_leaf=1, max_features='auto', max_depth=700, bootstrap=True).fit(X, y)\n",
    "\n",
    "# from imblearn.over_sampling import SMOTE\n",
    "# sm = SMOTE(random_state = 2) \n",
    "# X_train_smote, y_train_smote = sm.fit_sample(X, y.ravel())\n",
    "\n",
    "# rfc = RandomForestClassifier(n_estimators=522, min_samples_split=10, min_samples_leaf=1, max_features='auto', max_depth=700, bootstrap=True)\n",
    "# print(cross_val_score(rfc, X_train_smote, y_train_smote, cv=3, scoring='f1'))"
   ]
  },
  {
   "cell_type": "code",
   "execution_count": null,
   "metadata": {},
   "outputs": [],
   "source": []
  },
  {
   "cell_type": "code",
   "execution_count": null,
   "metadata": {},
   "outputs": [],
   "source": []
  },
  {
   "cell_type": "code",
   "execution_count": 70,
   "metadata": {},
   "outputs": [
    {
     "name": "stdout",
     "output_type": "stream",
     "text": [
      "(array([0, 1], dtype=int64), array([234,  55], dtype=int64))\n",
      "0.24880180794694504\n"
     ]
    },
    {
     "data": {
      "image/png": "[encoded data removed]",
      "text/plain": [
       "<Figure size 432x288 with 1 Axes>"
      ]
     },
     "metadata": {
      "needs_background": "light"
     },
     "output_type": "display_data"
    },
    {
     "name": "stdout",
     "output_type": "stream",
     "text": [
      "              precision    recall  f1-score   support\n",
      "\n",
      "           0       0.97      0.87      0.92       234\n",
      "           1       0.62      0.89      0.73        55\n",
      "\n",
      "    accuracy                           0.88       289\n",
      "   macro avg       0.80      0.88      0.83       289\n",
      "weighted avg       0.90      0.88      0.88       289\n",
      "\n"
     ]
    },
    {
     "data": {
      "text/plain": [
       "<matplotlib.axes._subplots.AxesSubplot at 0x261afd2ce80>"
      ]
     },
     "execution_count": 70,
     "metadata": {},
     "output_type": "execute_result"
    },
    {
     "data": {
      "image/png": "[encoded data removed]",
      "text/plain": [
       "<Figure size 432x288 with 2 Axes>"
      ]
     },
     "metadata": {
      "needs_background": "light"
     },
     "output_type": "display_data"
    }
   ],
   "source": [
    "#feature importance 100\n",
    "from sklearn.model_selection import train_test_split\n",
    "from sklearn import metrics\n",
    "import seaborn as sns\n",
    "\n",
    "\n",
    "X_train, X_test, y_train, y_test = train_test_split(X, y)\n",
    "print(np.unique(y_test, return_counts=True))\n",
    "\n",
    "rfc = RandomForestClassifier(n_estimators=522, min_samples_split=10, min_samples_leaf=1, max_features='auto', max_depth=700, bootstrap=True).fit(X_train, y_train)\n",
    "\n",
    "\n",
    "predicted_proba = rfc.predict_proba(X_test)\n",
    "\n",
    "preds = predicted_proba[:,1]\n",
    "fpr, tpr, threshold_list = metrics.roc_curve(y_test, preds)\n",
    "roc_auc = metrics.auc(fpr, tpr)\n",
    "\n",
    "optimal_idx = np.argmax(tpr - fpr)\n",
    "threshold = threshold_list[optimal_idx]\n",
    "print(threshold)\n",
    "\n",
    "import matplotlib.pyplot as plt\n",
    "plt.title('Receiver Operating Characteristic')\n",
    "plt.plot(fpr, tpr, 'b', label = 'AUC = %0.2f' % roc_auc)\n",
    "plt.legend(loc = 'lower right')\n",
    "plt.plot([0, 1], [0, 1],'r--')\n",
    "plt.xlim([0, 1])\n",
    "plt.ylim([0, 1])\n",
    "plt.ylabel('True Positive Rate')\n",
    "plt.xlabel('False Positive Rate')\n",
    "plt.show()\n",
    "\n",
    "predicted = (predicted_proba [:,1] >= threshold).astype('int')\n",
    "accuracy = metrics.classification_report(y_test, predicted)\n",
    "print(accuracy)\n",
    "cf_matrix = metrics.confusion_matrix(y_test, predicted)\n",
    "sns.heatmap(cf_matrix, fmt='', cmap='Blues', annot=True)"
   ]
  },
  {
   "cell_type": "code",
   "execution_count": 74,
   "metadata": {},
   "outputs": [
    {
     "name": "stdout",
     "output_type": "stream",
     "text": [
      "(array([0, 1], dtype=int64), array([218, 240], dtype=int64))\n",
      "0.4932653633084668\n"
     ]
    },
    {
     "data": {
      "image/png": "[encoded data removed]",
      "text/plain": [
       "<Figure size 432x288 with 1 Axes>"
      ]
     },
     "metadata": {
      "needs_background": "light"
     },
     "output_type": "display_data"
    },
    {
     "name": "stdout",
     "output_type": "stream",
     "text": [
      "              precision    recall  f1-score   support\n",
      "\n",
      "           0       0.95      0.90      0.93       218\n",
      "           1       0.92      0.96      0.94       240\n",
      "\n",
      "    accuracy                           0.93       458\n",
      "   macro avg       0.93      0.93      0.93       458\n",
      "weighted avg       0.93      0.93      0.93       458\n",
      "\n"
     ]
    },
    {
     "data": {
      "text/plain": [
       "<matplotlib.axes._subplots.AxesSubplot at 0x261b1107dd8>"
      ]
     },
     "execution_count": 74,
     "metadata": {},
     "output_type": "execute_result"
    },
    {
     "data": {
      "image/png": "[encoded data removed]",
      "text/plain": [
       "<Figure size 432x288 with 2 Axes>"
      ]
     },
     "metadata": {
      "needs_background": "light"
     },
     "output_type": "display_data"
    }
   ],
   "source": [
    "#smote important 50 data\n",
    "from sklearn.model_selection import train_test_split\n",
    "from sklearn import metrics\n",
    "\n",
    "from imblearn.over_sampling import SMOTE\n",
    "sm = SMOTE(random_state = 2) \n",
    "X_train_smote, y_train_smote = sm.fit_sample(X, y.ravel())\n",
    "\n",
    "\n",
    "X_train, X_test, y_train, y_test = train_test_split(X_train_smote, y_train_smote)\n",
    "print(np.unique(y_test, return_counts=True))\n",
    "\n",
    "rfc = RandomForestClassifier(n_estimators=522, min_samples_split=10, min_samples_leaf=1, max_features='auto', max_depth=700, bootstrap=True).fit(X_train, y_train)\n",
    "\n",
    "predicted_proba = rfc.predict_proba(X_test)\n",
    "\n",
    "preds = predicted_proba[:,1]\n",
    "fpr, tpr, threshold_list = metrics.roc_curve(y_test, preds)\n",
    "roc_auc = metrics.auc(fpr, tpr)\n",
    "\n",
    "optimal_idx = np.argmax(tpr - fpr)\n",
    "threshold = threshold_list[optimal_idx]\n",
    "print(threshold)\n",
    "\n",
    "import matplotlib.pyplot as plt\n",
    "plt.title('Receiver Operating Characteristic')\n",
    "plt.plot(fpr, tpr, 'b', label = 'AUC = %0.2f' % roc_auc)\n",
    "plt.legend(loc = 'lower right')\n",
    "plt.plot([0, 1], [0, 1],'r--')\n",
    "plt.xlim([0, 1])\n",
    "plt.ylim([0, 1])\n",
    "plt.ylabel('True Positive Rate')\n",
    "plt.xlabel('False Positive Rate')\n",
    "plt.show()\n",
    "\n",
    "predicted = (predicted_proba [:,1] >= threshold).astype('int')\n",
    "accuracy = metrics.classification_report(y_test, predicted)\n",
    "print(accuracy)\n",
    "cf_matrix = metrics.confusion_matrix(y_test, predicted)\n",
    "sns.heatmap(cf_matrix, fmt='', cmap='Blues', annot=True)"
   ]
  },
  {
   "cell_type": "code",
   "execution_count": null,
   "metadata": {},
   "outputs": [],
   "source": []
  },
  {
   "cell_type": "code",
   "execution_count": null,
   "metadata": {},
   "outputs": [],
   "source": []
  },
  {
   "cell_type": "code",
   "execution_count": null,
   "metadata": {},
   "outputs": [],
   "source": [
    "def get_test_tfidf(df, v_text = vectorizer_text, v_link = vectorizer_link):  #df = df_test_features\n",
    "    \n",
    "    X_text = v_text.transform(df.TRANS_CONV_TEXT.values)\n",
    "    X_link = v_link.transform(df.Title.values)\n",
    "\n",
    "    return(X_text, X_link)\n",
    "\n",
    "def encoding_src(sent, label_encoder = label_encoder_src):\n",
    "    try:\n",
    "        return label_encoder.transform(sent).astype('int')\n",
    "    except:\n",
    "        return 0\n",
    "    \n",
    "def encoding_link(sent, label_encoder = label_encoder_Link):\n",
    "    try:\n",
    "        return label_encoder.transform(sent).astype('int')\n",
    "    except:\n",
    "        return 0\n",
    "\n",
    "def get_test_encoding(df1, df2): #df1 = test, df2 = df_test_features\n",
    "    \n",
    "    df_sub = df1[['Source', 'Link']]\n",
    "    df_sub.Link = df_sub.Link.apply(get_domain)\n",
    "    df_sub.Source = df_sub[['Source']].applymap(str.lower)\n",
    "    df_sub.Source = df_sub.Source.apply(encoding_src)\n",
    "    df_sub.Link = df_sub.Link.apply(encoding_link)\n",
    "\n",
    "    df_sub['word_count'] = df2['TRANS_CONV_TEXT'].apply(lambda x: len(str(x).split(' ')))\n",
    "    return(df_sub)\n",
    "\n",
    "def get_test_transforms(test):\n",
    "    \n",
    "    df_test_features = get_text_features(test)\n",
    "    X_text, X_link = get_test_tfidf(df_test_features)\n",
    "    df_sub = get_test_encoding(test, df_test_features)\n",
    "    df_final = merge_df(X_text, X_link, df_sub)\n",
    "    \n",
    "    return(df_final.values)"
   ]
  },
  {
   "cell_type": "code",
   "execution_count": null,
   "metadata": {},
   "outputs": [],
   "source": []
  },
  {
   "cell_type": "code",
   "execution_count": null,
   "metadata": {},
   "outputs": [],
   "source": [
    "train.Patient_Tag.value_counts()"
   ]
  },
  {
   "cell_type": "code",
   "execution_count": null,
   "metadata": {},
   "outputs": [],
   "source": [
    "916/(916+240)"
   ]
  },
  {
   "cell_type": "code",
   "execution_count": null,
   "metadata": {},
   "outputs": [],
   "source": [
    "X_test = get_test_transforms(test, vectorizer_text, vectorizer_link, label_encoder_src, label_encoder_src)\n",
    "predictions = rfc.predict(X_test)\n",
    "predictions = np.round(predictions).astype(int).reshape(len(test))\n",
    "\n",
    "sub=pd.DataFrame({'Index':test['Index'].values.tolist(),'Patient_Tag':predictions})\n",
    "sub.to_csv(PATH/'submission/submission_features_rfc_improved.csv',index=False)"
   ]
  },
  {
   "cell_type": "code",
   "execution_count": null,
   "metadata": {},
   "outputs": [],
   "source": []
  },
  {
   "cell_type": "code",
   "execution_count": null,
   "metadata": {},
   "outputs": [],
   "source": []
  },
  {
   "cell_type": "code",
   "execution_count": null,
   "metadata": {},
   "outputs": [],
   "source": []
  },
  {
   "cell_type": "code",
   "execution_count": null,
   "metadata": {},
   "outputs": [],
   "source": []
  },
  {
   "cell_type": "code",
   "execution_count": null,
   "metadata": {},
   "outputs": [],
   "source": []
  },
  {
   "cell_type": "code",
   "execution_count": null,
   "metadata": {},
   "outputs": [],
   "source": []
  },
  {
   "cell_type": "code",
   "execution_count": null,
   "metadata": {},
   "outputs": [],
   "source": []
  },
  {
   "cell_type": "code",
   "execution_count": null,
   "metadata": {},
   "outputs": [],
   "source": []
  },
  {
   "cell_type": "code",
   "execution_count": null,
   "metadata": {},
   "outputs": [],
   "source": []
  },
  {
   "cell_type": "code",
   "execution_count": null,
   "metadata": {},
   "outputs": [],
   "source": []
  },
  {
   "cell_type": "code",
   "execution_count": null,
   "metadata": {},
   "outputs": [],
   "source": []
  },
  {
   "cell_type": "code",
   "execution_count": null,
   "metadata": {},
   "outputs": [],
   "source": []
  },
  {
   "cell_type": "code",
   "execution_count": null,
   "metadata": {},
   "outputs": [],
   "source": []
  },
  {
   "cell_type": "code",
   "execution_count": null,
   "metadata": {},
   "outputs": [],
   "source": []
  },
  {
   "cell_type": "code",
   "execution_count": null,
   "metadata": {},
   "outputs": [],
   "source": []
  },
  {
   "cell_type": "code",
   "execution_count": null,
   "metadata": {},
   "outputs": [],
   "source": []
  },
  {
   "cell_type": "code",
   "execution_count": null,
   "metadata": {},
   "outputs": [],
   "source": []
  },
  {
   "cell_type": "code",
   "execution_count": null,
   "metadata": {},
   "outputs": [],
   "source": [
    "# # tsne plotting\n",
    "\n",
    "# import plotly.offline as py\n",
    "# py.init_notebook_mode(connected=True)\n",
    "# import plotly.graph_objs as go\n",
    "# import plotly.tools as tls\n",
    "# import seaborn as sns\n",
    "# import matplotlib.image as mpimg\n",
    "# import matplotlib.pyplot as plt\n",
    "# import matplotlib\n",
    "# %matplotlib inline\n",
    "\n",
    "# # Import the 3 dimensionality reduction methods\n",
    "# from sklearn.manifold import TSNE\n",
    "\n",
    "# Target = train.Patient_Tag\n",
    "\n",
    "# vectorizer = TfidfVectorizer(max_df=0.05, max_features=70)\n",
    "# X = vectorizer.fit_transform(corpus_title)\n",
    "\n",
    "# tsne = TSNE()\n",
    "# tsne_results = tsne.fit_transform(X) \n",
    "\n",
    "# traceTSNE = go.Scatter(\n",
    "#     x = tsne_results[:,0],\n",
    "#     y = tsne_results[:,1],\n",
    "#     name = 0,\n",
    "# #     hoveron = Target,\n",
    "#     mode = 'markers',\n",
    "# #     text = Target.unique(),\n",
    "#     showlegend = True,\n",
    "#     marker = dict(\n",
    "#         size = 8,\n",
    "#         color = Target,\n",
    "#         colorscale ='Jet',\n",
    "#         showscale = False,\n",
    "#         line = dict(\n",
    "#             width = 2,\n",
    "#             color = 'rgb(255, 255, 255)'\n",
    "#         ),\n",
    "#         opacity = 0.8\n",
    "#     )\n",
    "# )\n",
    "# data = [traceTSNE]\n",
    "\n",
    "# layout = dict(title = 'TSNE for Title',\n",
    "#               hovermode= 'closest',\n",
    "#               yaxis = dict(zeroline = False),\n",
    "#               xaxis = dict(zeroline = False),\n",
    "#               showlegend= True,\n",
    "\n",
    "#              )\n",
    "\n",
    "# fig = dict(data=data, layout=layout)\n",
    "# py.iplot(fig, filename='styled-scatter')\n",
    "# py.plot(fig, filename = 'Title_70.html', auto_open=False)\n",
    "\n",
    "# # tsne plotting\n",
    "\n",
    "# import plotly.offline as py\n",
    "# py.init_notebook_mode(connected=True)\n",
    "# import plotly.graph_objs as go\n",
    "# import plotly.tools as tls\n",
    "# import seaborn as sns\n",
    "# import matplotlib.image as mpimg\n",
    "# import matplotlib.pyplot as plt\n",
    "# import matplotlib\n",
    "# %matplotlib inline\n",
    "\n",
    "# # Import the 3 dimensionality reduction methods\n",
    "# from sklearn.manifold import TSNE\n",
    "\n",
    "# Target = train.Patient_Tag\n",
    "\n",
    "# vectorizer = TfidfVectorizer(max_df=0.05, max_features=70)\n",
    "# X = vectorizer.fit_transform(corpus_title)\n",
    "\n",
    "# tsne = TSNE()\n",
    "# tsne_results = tsne.fit_transform(X) \n",
    "\n",
    "# traceTSNE = go.Scatter(\n",
    "#     x = tsne_results[:,0],\n",
    "#     y = tsne_results[:,1],\n",
    "#     name = 0,\n",
    "# #     hoveron = Target,\n",
    "#     mode = 'markers',\n",
    "# #     text = Target.unique(),\n",
    "#     showlegend = True,\n",
    "#     marker = dict(\n",
    "#         size = 8,\n",
    "#         color = Target,\n",
    "#         colorscale ='Jet',\n",
    "#         showscale = False,\n",
    "#         line = dict(\n",
    "#             width = 2,\n",
    "#             color = 'rgb(255, 255, 255)'\n",
    "#         ),\n",
    "#         opacity = 0.8\n",
    "#     )\n",
    "# )\n",
    "# data = [traceTSNE]\n",
    "\n",
    "# layout = dict(title = 'TSNE for Title',\n",
    "#               hovermode= 'closest',\n",
    "#               yaxis = dict(zeroline = False),\n",
    "#               xaxis = dict(zeroline = False),\n",
    "#               showlegend= True,\n",
    "\n",
    "#              )\n",
    "\n",
    "# fig = dict(data=data, layout=layout)\n",
    "# py.iplot(fig, filename='styled-scatter')\n",
    "# py.plot(fig, filename = 'Title_70.html', auto_open=False)\n",
    "\n",
    "# df_temp = pd.concat([df_sub, train[['Patient_Tag']]],axis=1)\n",
    "# traceTSNE = go.Scatter(\n",
    "#     x = df_temp['word_count'].values,\n",
    "#     y = df_temp['len_stopwords'].values,\n",
    "#     name = 0,\n",
    "#     mode = 'markers',\n",
    "# #     text = Target.unique(),\n",
    "#     showlegend = True,\n",
    "#     marker = dict(\n",
    "#         size = 8,\n",
    "#         color = Target,\n",
    "#         colorscale ='Jet',\n",
    "#         showscale = False,\n",
    "#         line = dict(\n",
    "#             width = 2,\n",
    "#             color = 'rgb(255, 255, 255)'\n",
    "#         ),\n",
    "#         opacity = 0.8\n",
    "#     )\n",
    "# )\n",
    "# data = [traceTSNE]\n",
    "\n",
    "# layout = dict(title = 'TSNE for len_stopwords and word_count',\n",
    "#               hovermode= 'closest',\n",
    "#               yaxis = dict(zeroline = False),\n",
    "#               xaxis = dict(zeroline = False),\n",
    "#               xaxis_title = 'word_count',\n",
    "#               yaxis_title = 'len_stopwords',\n",
    "#               showlegend= True,\n",
    "\n",
    "#              )\n",
    "\n",
    "# fig = dict(data=data, layout=layout)\n",
    "# py.iplot(fig, filename='styled-scatter')\n",
    "# py.plot(fig, filename = 'len_count.html', auto_open=False)\n",
    "\n",
    "# # tsne plotting\n",
    "\n",
    "# import plotly.offline as py\n",
    "# py.init_notebook_mode(connected=True)\n",
    "# import plotly.graph_objs as go\n",
    "# import plotly.tools as tls\n",
    "# import seaborn as sns\n",
    "# import matplotlib.image as mpimg\n",
    "# import matplotlib.pyplot as plt\n",
    "# import matplotlib\n",
    "# %matplotlib inline\n",
    "\n",
    "# # Import the 3 dimensionality reduction methods\n",
    "# from sklearn.manifold import TSNE\n",
    "\n",
    "# Target = train.Patient_Tag\n",
    "\n",
    "# vectorizer = TfidfVectorizer(max_df=0.05, max_features=70)\n",
    "# X = vectorizer.fit_transform(corpus_title)\n",
    "\n",
    "# tsne = TSNE()\n",
    "# tsne_results = tsne.fit_transform(X) \n",
    "\n",
    "# traceTSNE = go.Scatter(\n",
    "#     x = tsne_results[:,0],\n",
    "#     y = tsne_results[:,1],\n",
    "#     name = 0,\n",
    "# #     hoveron = Target,\n",
    "#     mode = 'markers',\n",
    "# #     text = Target.unique(),\n",
    "#     showlegend = True,\n",
    "#     marker = dict(\n",
    "#         size = 8,\n",
    "#         color = Target,\n",
    "#         colorscale ='Jet',\n",
    "#         showscale = False,\n",
    "#         line = dict(\n",
    "#             width = 2,\n",
    "#             color = 'rgb(255, 255, 255)'\n",
    "#         ),\n",
    "#         opacity = 0.8\n",
    "#     )\n",
    "# )\n",
    "# data = [traceTSNE]\n",
    "\n",
    "# layout = dict(title = 'TSNE for Title',\n",
    "#               hovermode= 'closest',\n",
    "#               yaxis = dict(zeroline = False),\n",
    "#               xaxis = dict(zeroline = False),\n",
    "#               showlegend= True,\n",
    "\n",
    "#              )\n",
    "\n",
    "# fig = dict(data=data, layout=layout)\n",
    "# py.iplot(fig, filename='styled-scatter')\n",
    "# py.plot(fig, filename = 'Title_70.html', auto_open=False)\n",
    "\n",
    "# df_temp = pd.concat([df_sub, train[['Patient_Tag']]],axis=1)\n",
    "# traceTSNE = go.Scatter(\n",
    "#     x = df_temp['word_count'].values,\n",
    "#     y = df_temp['len_stopwords'].values,\n",
    "#     name = 0,\n",
    "#     mode = 'markers',\n",
    "# #     text = Target.unique(),\n",
    "#     showlegend = True,\n",
    "#     marker = dict(\n",
    "#         size = 8,\n",
    "#         color = Target,\n",
    "#         colorscale ='Jet',\n",
    "#         showscale = False,\n",
    "#         line = dict(\n",
    "#             width = 2,\n",
    "#             color = 'rgb(255, 255, 255)'\n",
    "#         ),\n",
    "#         opacity = 0.8\n",
    "#     )\n",
    "# )\n",
    "# data = [traceTSNE]\n",
    "\n",
    "# layout = dict(title = 'TSNE for len_stopwords and word_count',\n",
    "#               hovermode= 'closest',\n",
    "#               yaxis = dict(zeroline = False),\n",
    "#               xaxis = dict(zeroline = False),\n",
    "#               xaxis_title = 'word_count',\n",
    "#               yaxis_title = 'len_stopwords',\n",
    "#               showlegend= True,\n",
    "\n",
    "#              )\n",
    "\n",
    "# fig = dict(data=data, layout=layout)\n",
    "# py.iplot(fig, filename='styled-scatter')\n",
    "# py.plot(fig, filename = 'len_count.html', auto_open=False)\n",
    "\n",
    "\n",
    "\n",
    "# df_temp = pd.concat([df_sub, train[['Patient_Tag']]],axis=1)\n",
    "# traceTSNE = go.Scatter(\n",
    "#     x = df_temp['Source'].values,\n",
    "#     y = df_temp['Patient_Tag'].values,\n",
    "#     name = 0,\n",
    "#     mode = 'markers',\n",
    "#     text = Target.unique(),\n",
    "#     showlegend = True,\n",
    "#     marker = dict(\n",
    "#         size = 8,\n",
    "#         color = Target,\n",
    "#         colorscale ='Jet',\n",
    "#         showscale = False,\n",
    "#         line = dict(\n",
    "#             width = 2,\n",
    "#             color = 'rgb(255, 255, 255)'\n",
    "#         ),\n",
    "#         opacity = 0.8\n",
    "#     )\n",
    "# )\n",
    "# data = [traceTSNE]\n",
    "\n",
    "# layout = dict(title = 'TSNE for Source',\n",
    "#               hovermode= 'closest',\n",
    "#               yaxis = dict(zeroline = False),\n",
    "#               xaxis = dict(zeroline = False),\n",
    "#               xaxis_title = 'Source',\n",
    "#               yaxis_title = 'Patient_Tag',\n",
    "#               showlegend= True,\n",
    "\n",
    "#              )\n",
    "\n",
    "# fig = dict(data=data, layout=layout)\n",
    "# py.iplot(fig, filename='styled-scatter')\n",
    "# py.plot(fig, filename = 'Source.html', auto_open=False)\n",
    "\n",
    "# df_temp = pd.concat([df_sub, train[['Patient_Tag']]],axis=1)\n",
    "# traceTSNE = go.Scatter(\n",
    "#     x = df_temp['Source'].values,\n",
    "#     y = df_temp['Patient_Tag'].values,\n",
    "#     name = 0,\n",
    "#     mode = 'markers',\n",
    "#     text = Target.unique(),\n",
    "#     showlegend = True,\n",
    "#     marker = dict(\n",
    "#         size = 8,\n",
    "#         color = Target,\n",
    "#         colorscale ='Jet',\n",
    "#         showscale = False,\n",
    "#         line = dict(\n",
    "#             width = 2,\n",
    "#             color = 'rgb(255, 255, 255)'\n",
    "#         ),\n",
    "#         opacity = 0.8\n",
    "#     )\n",
    "# )\n",
    "# data = [traceTSNE]\n",
    "\n",
    "# layout = dict(title = 'TSNE for Source',\n",
    "#               hovermode= 'closest',\n",
    "#               yaxis = dict(zeroline = False),\n",
    "#               xaxis = dict(zeroline = False),\n",
    "#               xaxis_title = 'Source',\n",
    "#               yaxis_title = 'Patient_Tag',\n",
    "#               showlegend= True,\n",
    "\n",
    "#              )\n",
    "\n",
    "# fig = dict(data=data, layout=layout)\n",
    "# py.iplot(fig, filename='styled-scatter')\n",
    "# py.plot(fig, filename = 'Source.html', auto_open=False)\n",
    "\n",
    "# # tsne plotting\n",
    "\n",
    "# import plotly.offline as py\n",
    "# py.init_notebook_mode(connected=True)\n",
    "# import plotly.graph_objs as go\n",
    "# import plotly.tools as tls\n",
    "# import seaborn as sns\n",
    "# import matplotlib.image as mpimg\n",
    "# import matplotlib.pyplot as plt\n",
    "# import matplotlib\n",
    "# %matplotlib inline\n",
    "\n",
    "# # Import the 3 dimensionality reduction methods\n",
    "# from sklearn.manifold import TSNE\n",
    "\n",
    "# Target = train.Patient_Tag\n",
    "\n",
    "# vectorizer = TfidfVectorizer(max_df=0.05, max_features=70)\n",
    "# X = vectorizer.fit_transform(corpus_title)\n",
    "\n",
    "# tsne = TSNE()\n",
    "# tsne_results = tsne.fit_transform(X) \n",
    "\n",
    "# traceTSNE = go.Scatter(\n",
    "#     x = tsne_results[:,0],\n",
    "#     y = tsne_results[:,1],\n",
    "#     name = 0,\n",
    "# #     hoveron = Target,\n",
    "#     mode = 'markers',\n",
    "# #     text = Target.unique(),\n",
    "#     showlegend = True,\n",
    "#     marker = dict(\n",
    "#         size = 8,\n",
    "#         color = Target,\n",
    "#         colorscale ='Jet',\n",
    "#         showscale = False,\n",
    "#         line = dict(\n",
    "#             width = 2,\n",
    "#             color = 'rgb(255, 255, 255)'\n",
    "#         ),\n",
    "#         opacity = 0.8\n",
    "#     )\n",
    "# )\n",
    "# data = [traceTSNE]\n",
    "\n",
    "# layout = dict(title = 'TSNE for Title',\n",
    "#               hovermode= 'closest',\n",
    "#               yaxis = dict(zeroline = False),\n",
    "#               xaxis = dict(zeroline = False),\n",
    "#               showlegend= True,\n",
    "\n",
    "#              )\n",
    "\n",
    "# fig = dict(data=data, layout=layout)\n",
    "# py.iplot(fig, filename='styled-scatter')\n",
    "# py.plot(fig, filename = 'Title_70.html', auto_open=False)\n",
    "\n",
    "# df_temp = pd.concat([df_sub, train[['Patient_Tag']]],axis=1)\n",
    "# traceTSNE = go.Scatter(\n",
    "#     x = df_temp['word_count'].values,\n",
    "#     y = df_temp['len_stopwords'].values,\n",
    "#     name = 0,\n",
    "#     mode = 'markers',\n",
    "# #     text = Target.unique(),\n",
    "#     showlegend = True,\n",
    "#     marker = dict(\n",
    "#         size = 8,\n",
    "#         color = Target,\n",
    "#         colorscale ='Jet',\n",
    "#         showscale = False,\n",
    "#         line = dict(\n",
    "#             width = 2,\n",
    "#             color = 'rgb(255, 255, 255)'\n",
    "#         ),\n",
    "#         opacity = 0.8\n",
    "#     )\n",
    "# )\n",
    "# data = [traceTSNE]\n",
    "\n",
    "# layout = dict(title = 'TSNE for len_stopwords and word_count',\n",
    "#               hovermode= 'closest',\n",
    "#               yaxis = dict(zeroline = False),\n",
    "#               xaxis = dict(zeroline = False),\n",
    "#               xaxis_title = 'word_count',\n",
    "#               yaxis_title = 'len_stopwords',\n",
    "#               showlegend= True,\n",
    "\n",
    "#              )\n",
    "\n",
    "# fig = dict(data=data, layout=layout)\n",
    "# py.iplot(fig, filename='styled-scatter')\n",
    "# py.plot(fig, filename = 'len_count.html', auto_open=False)\n",
    "\n",
    "\n",
    "\n",
    "# df_temp = pd.concat([df_sub, train[['Patient_Tag']]],axis=1)\n",
    "# traceTSNE = go.Scatter(\n",
    "#     x = df_temp['Source'].values,\n",
    "#     y = df_temp['Patient_Tag'].values,\n",
    "#     name = 0,\n",
    "#     mode = 'markers',\n",
    "#     text = Target.unique(),\n",
    "#     showlegend = True,\n",
    "#     marker = dict(\n",
    "#         size = 8,\n",
    "#         color = Target,\n",
    "#         colorscale ='Jet',\n",
    "#         showscale = False,\n",
    "#         line = dict(\n",
    "#             width = 2,\n",
    "#             color = 'rgb(255, 255, 255)'\n",
    "#         ),\n",
    "#         opacity = 0.8\n",
    "#     )\n",
    "# )\n",
    "# data = [traceTSNE]\n",
    "\n",
    "# layout = dict(title = 'TSNE for Source',\n",
    "#               hovermode= 'closest',\n",
    "#               yaxis = dict(zeroline = False),\n",
    "#               xaxis = dict(zeroline = False),\n",
    "#               xaxis_title = 'Source',\n",
    "#               yaxis_title = 'Patient_Tag',\n",
    "#               showlegend= True,\n",
    "\n",
    "#              )\n",
    "\n",
    "# fig = dict(data=data, layout=layout)\n",
    "# py.iplot(fig, filename='styled-scatter')\n",
    "# py.plot(fig, filename = 'Source.html', auto_open=False)\n",
    "\n",
    "\n",
    "\n",
    "# print(len(df_temp[(df_temp.Source==0) & (df_temp.Patient_Tag==0)]))\n",
    "# print(len(df_temp[(df_temp.Source==0) & (df_temp.Patient_Tag==1)]))\n",
    "# print()\n",
    "# print(len(df_temp[(df_temp.Source==1) & (df_temp.Patient_Tag==0)]))\n",
    "# print(len(df_temp[(df_temp.Source==1) & (df_temp.Patient_Tag==1)]))\n",
    "# print()\n",
    "# print(len(df_temp[(df_temp.Source==2) & (df_temp.Patient_Tag==0)]))\n",
    "# print(len(df_temp[(df_temp.Source==2) & (df_temp.Patient_Tag==1)]))\n",
    "# print()\n",
    "# print(len(df_temp[(df_temp.Source==3) & (df_temp.Patient_Tag==0)]))\n",
    "# print(len(df_temp[(df_temp.Source==3) & (df_temp.Patient_Tag==1)]))"
   ]
  },
  {
   "cell_type": "code",
   "execution_count": null,
   "metadata": {},
   "outputs": [],
   "source": []
  },
  {
   "cell_type": "code",
   "execution_count": null,
   "metadata": {},
   "outputs": [],
   "source": []
  },
  {
   "cell_type": "code",
   "execution_count": null,
   "metadata": {},
   "outputs": [],
   "source": []
  }
 ],
 "metadata": {
  "kernelspec": {
   "display_name": "Python 3",
   "language": "python",
   "name": "python3"
  },
  "language_info": {
   "codemirror_mode": {
    "name": "ipython",
    "version": 3
   },
   "file_extension": ".py",
   "mimetype": "text/x-python",
   "name": "python",
   "nbconvert_exporter": "python",
   "pygments_lexer": "ipython3",
   "version": "3.7.3"
  }
 },
 "nbformat": 4,
 "nbformat_minor": 2
}
